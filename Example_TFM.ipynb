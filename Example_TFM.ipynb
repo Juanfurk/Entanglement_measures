{
 "cells": [
  {
   "attachments": {},
   "cell_type": "markdown",
   "metadata": {},
   "source": [
    "# Examples of entanglement measures\n",
    "\n",
    "This notebook is intended to serve as a demonstration of the capabilities of the code provided in 'myfunctions.py'. This code has been programmed in Python and Qibo, as part of my final master thesis, 'Quantum Benchmarking: entanglement measures in quantum computers'."
   ]
  },
  {
   "cell_type": "code",
   "execution_count": 1,
   "metadata": {},
   "outputs": [],
   "source": [
    "#import general packages\n",
    "import numpy as np\n",
    "import matplotlib.pyplot as plt\n",
    "\n",
    "#import qibo packages\n",
    "from qibo.models import Circuit                                 #allows us to execute circuits.\n",
    "from qibo import gates                                          #allows us to create quantum gates.\n",
    "from qibo.quantum_info import random_unitary as U               #allows us to create random unitaries.\n",
    "\n",
    "\n",
    "from myfunctions import Randomized_Renyi_2 as random_renyi2     #function for the randomized protocol.\n",
    "from myfunctions import Swap_Renyi_n as swap_renyn              #funtion for the control-swap protocol."
   ]
  },
  {
   "attachments": {},
   "cell_type": "markdown",
   "metadata": {},
   "source": [
    "## General circuit examples\n",
    "\n",
    "In the following sections, we will assess the protocol by applying it to various types of quantum circuits. To begin, let's introduce the initial quantum circuits under consideration."
   ]
  },
  {
   "cell_type": "code",
   "execution_count": 2,
   "metadata": {},
   "outputs": [],
   "source": [
    "def GHZ(nqubits):\n",
    "    '''\n",
    "    This function returns a circuit for the Greenberger-Horne-Zeilinger (GHZ) state of n-qubits.\n",
    "    Parameters:\n",
    "        nqubits: number of qubits.\n",
    "    '''\n",
    "    c = Circuit(nqubits)\n",
    "    c.add(gates.H(0))\n",
    "    for i in range(nqubits-1):\n",
    "        c.add(gates.CNOT(i, i+1))\n",
    "    return c\n",
    "\n",
    "def GS(nqubits):\n",
    "    '''\n",
    "    This function returns a circuit for a Graph state (GS) of n-qubits.\n",
    "    Parameters:\n",
    "        nqubits: number of qubits.\n",
    "    '''\n",
    "    c = Circuit(nqubits)\n",
    "    for i in range(nqubits):\n",
    "        c.add(gates.H(i))\n",
    "    for i in range(nqubits):\n",
    "        if i==nqubits-1:\n",
    "            c.add(gates.CZ(0,nqubits-1))\n",
    "        else:\n",
    "            c.add(gates.CZ(i, i+1))\n",
    "    return c\n",
    "\n",
    "def RS(nqubits): \n",
    "    '''\n",
    "    This function returns a circuit for a Random state (RS) of n-qubits.\n",
    "    Parameters:\n",
    "        nqubits: number of qubits.\n",
    "    '''       \n",
    "    c = Circuit(nqubits)\n",
    "    if nqubits % 2 ==0:\n",
    "        for i in range(nqubits):\n",
    "            U_gate = U(2, 'haar')\n",
    "            c.add(gates.Unitary(U_gate,i))\n",
    "        for i in range(0, nqubits, 2):\n",
    "            c.add(gates.CZ(i, i+1))\n",
    "        for i in range(nqubits):\n",
    "            U_gate = U(2, 'haar')\n",
    "            c.add(gates.Unitary(U_gate,i))\n",
    "        for i in range(0, nqubits, 2):\n",
    "            if i == nqubits - 2:\n",
    "                break\n",
    "            else:\n",
    "                c.add(gates.CZ(i+1, i+2))\n",
    "        c.add(gates.CZ(0, nqubits -1))\n",
    "        for i in range(nqubits):\n",
    "            U_gate = U(2, 'haar')\n",
    "            c.add(gates.Unitary(U_gate,i))\n",
    "\n",
    "    else:\n",
    "        for i in range(nqubits):\n",
    "            U_gate = U(2, 'haar')\n",
    "            c.add(gates.Unitary(U_gate,i))\n",
    "        for i in range(0, nqubits - 1 , 2):\n",
    "            c.add(gates.CZ(i, i+1))\n",
    "        for i in range(nqubits):\n",
    "            U_gate = U(2, 'haar')\n",
    "            c.add(gates.Unitary(U_gate,i))\n",
    "        for i in range(1, nqubits - 1, 2):\n",
    "            c.add(gates.CZ(i, i+1))\n",
    "        c.add(gates.CZ(0, nqubits -1))\n",
    "        for i in range(nqubits):\n",
    "            U_gate = U(2, 'haar')\n",
    "            c.add(gates.Unitary(U_gate,i))\n",
    "\n",
    "    return c\n"
   ]
  },
  {
   "attachments": {},
   "cell_type": "markdown",
   "metadata": {},
   "source": [
    "Let's take a look at the form of the circuits and their final quantum state, for 5 qubits."
   ]
  },
  {
   "cell_type": "code",
   "execution_count": 3,
   "metadata": {},
   "outputs": [
    {
     "name": "stderr",
     "output_type": "stream",
     "text": [
      "[Qibo 0.1.12.dev0|INFO|2023-07-10 16:40:59]: Using qibojit (numba) backend on /CPU:0\n"
     ]
    },
    {
     "name": "stdout",
     "output_type": "stream",
     "text": [
      "This is the GHZ circuit \n",
      " q0: ─H─o───────\n",
      "q1: ───X─o─────\n",
      "q2: ─────X─o───\n",
      "q3: ───────X─o─\n",
      "q4: ─────────X─ \n",
      "\n",
      "and this is its quantum state \n",
      " (0.70711+0j)|00000> + (0.70711+0j)|11111>\n",
      "\n",
      "\n",
      "This is a GS circuit \n",
      " q0: ─H─o───────o─\n",
      "q1: ─H─Z─o─────|─\n",
      "q2: ─H───Z─o───|─\n",
      "q3: ─H─────Z─o─|─\n",
      "q4: ─H───────Z─Z─ \n",
      "\n",
      "and this is its quantum state \n",
      " (0.17678+0j)|00000> + (0.17678+0j)|00001> + (0.17678+0j)|00010> + (-0.17678+0j)|00011> + (0.17678+0j)|00100> + (0.17678+0j)|00101> + (-0.17678+0j)|00110> + (0.17678-0j)|00111> + (0.17678+0j)|01000> + (0.17678+0j)|01001> + (0.17678+0j)|01010> + (-0.17678+0j)|01011> + (-0.17678+0j)|01100> + (-0.17678+0j)|01101> + (0.17678-0j)|01110> + (-0.17678+0j)|01111> + (0.17678+0j)|10000> + (-0.17678+0j)|10001> + (0.17678+0j)|10010> + (0.17678-0j)|10011> + ...\n",
      "\n",
      "\n",
      "This is a RS circuit \n",
      " q0: ─U─o───U─────o─U─\n",
      "q1: ─U─Z───U─o───|─U─\n",
      "q2: ─U───o─U─Z───|─U─\n",
      "q3: ─U───Z─U───o─|─U─\n",
      "q4: ─U─────U───Z─Z─U─ \n",
      "\n",
      "and this is its quantum state \n",
      " (-0.19138+0.10276j)|00000> + (0.08011-0.29946j)|00001> + (0.08956-0.13813j)|00010> + (0.21337-0.04359j)|00011> + (-0.06344-0.02966j)|00100> + (0.13071+0.04773j)|00101> + (-0.02703+0.01325j)|00110> + (0.10188+0.01321j)|00111> + (0.03768+0.05494j)|01000> + (0.12952-0.14649j)|01001> + (-0.13328-0.0124j)|01010> + (0.08636+0.04033j)|01011> + (0.02754-0.01329j)|01100> + (-0.09454-0.03994j)|01101> + (-0.08009+0.10428j)|01110> + (-0.01583+0.04492j)|01111> + (-0.20947+0.26868j)|10000> + (-0.03047+0.01057j)|10001> + (0.09072-0.48609j)|10010> + (0.00352-0.1748j)|10011> + ...\n"
     ]
    }
   ],
   "source": [
    "nqubits = 5\n",
    "\n",
    "ghz = GHZ(nqubits)      #calls the circuit\n",
    "state = ghz()           #executes the theoretical circuit\n",
    "\n",
    "print('This is the GHZ circuit \\n', ghz.draw(), '\\n')\n",
    "print('and this is its quantum state \\n', state)\n",
    "print('\\n')\n",
    "\n",
    "gs = GS(nqubits)\n",
    "state = gs()\n",
    "\n",
    "print('This is a GS circuit \\n', gs.draw(), '\\n')\n",
    "print('and this is its quantum state \\n', state)\n",
    "print('\\n')\n",
    "\n",
    "rs = RS(nqubits)\n",
    "state = rs()\n",
    "\n",
    "print('This is a RS circuit \\n', rs.draw(), '\\n')\n",
    "print('and this is its quantum state \\n', state)"
   ]
  },
  {
   "attachments": {},
   "cell_type": "markdown",
   "metadata": {},
   "source": [
    "Now, let's compute the theoretical exact n-order Rényi entropy using the 'Exact()' option in 'Swap_Renyi_n()' function and compare it with both protocols. In the swap protocol, we are using the 'Measurement()' option to execute the protocol. For the randomized protocol, local and global approach are selected using options 'Local()' and 'Global()' respectively. For both cases we need to execute 'entropy()' in order to retrive the final value."
   ]
  },
  {
   "cell_type": "code",
   "execution_count": 4,
   "metadata": {},
   "outputs": [],
   "source": [
    "f1 = swap_renyn()               #let's call the swap protocol f1.\n",
    "f2 = random_renyi2()            #let's call the randomized protocol f2."
   ]
  },
  {
   "attachments": {},
   "cell_type": "markdown",
   "metadata": {},
   "source": [
    "First, let's focus on the Swap protocol and the order $n$."
   ]
  },
  {
   "cell_type": "code",
   "execution_count": 5,
   "metadata": {},
   "outputs": [
    {
     "name": "stdout",
     "output_type": "stream",
     "text": [
      "GHZ --- Exact:  1.000000 --- Estimated:  1.008682 +- 0.017811\n",
      "GS --- Exact:  2.000000 --- Estimated:  1.947862 +- 0.038012\n",
      "RS --- Exact:  0.894258 --- Estimated:  0.924673 +- 0.016460\n"
     ]
    }
   ],
   "source": [
    "n = 2                           #order of the Rényi entropy     \n",
    "N_A = [0,1,2]                   #indicates that subsystem A is composed by qubits 0,1,2 of the circuit.\n",
    "\n",
    "\n",
    "#we execute the exact calculations for the ghz, gs and rs.\n",
    "f1.Exact(n, nqubits, N_A, ghz)  #call for the exact value\n",
    "exact_ghz = f1.entropy()[0]\n",
    "\n",
    "f1.Exact(n, nqubits, N_A, gs) \n",
    "exact_gs = f1.entropy()[0]\n",
    "\n",
    "f1.Exact(n, nqubits, N_A, rs) \n",
    "exact_rs = f1.entropy()[0]\n",
    "\n",
    "N_M = 10000                     #we define the number of measurements performed in the swap protocol.\n",
    "\n",
    "#we execute the estimated calculations for the ghz, gs and rs.\n",
    "f1.Measurement(n, nqubits, N_A, ghz, N_M)   #calls the swap protocol\n",
    "swap_estimated_ghz = f1.entropy()           #retrives the entropy value\n",
    "swap_error_ghz = f1.error()                 #retrives the standard error correction\n",
    "\n",
    "f1.Measurement(n, nqubits, N_A, gs, N_M)\n",
    "swap_estimated_gs = f1.entropy()\n",
    "swap_error_gs = f1.error()\n",
    "\n",
    "\n",
    "f1.Measurement(n, nqubits, N_A, rs, N_M)\n",
    "swap_estimated_rs = f1.entropy()\n",
    "swap_error_rs = f1.error()\n",
    "\n",
    "print('GHZ --- Exact: ', \"%.6f\" % exact_ghz, '--- Estimated: ', \"%.6f\" % swap_estimated_ghz, '+-', \"%.6f\" % swap_error_ghz)\n",
    "print('GS --- Exact: ', \"%.6f\" % exact_gs, '--- Estimated: ', \"%.6f\" % swap_estimated_gs, '+-', \"%.6f\" % swap_error_gs)\n",
    "print('RS --- Exact: ', \"%.6f\" % exact_rs, '--- Estimated: ', \"%.6f\" % swap_estimated_rs, '+-', \"%.6f\" % swap_error_rs)\n"
   ]
  },
  {
   "attachments": {},
   "cell_type": "markdown",
   "metadata": {},
   "source": [
    "Next, let's focus on the randomized protocol."
   ]
  },
  {
   "cell_type": "code",
   "execution_count": 6,
   "metadata": {},
   "outputs": [
    {
     "name": "stdout",
     "output_type": "stream",
     "text": [
      "GHZ --- Exact:  1.000000 --- Local Estimated:  1.006794 +- 0.002658 --- Global Estimated:  1.004381 +- 0.002640\n",
      "GS --- Exact:  2.000000 --- Local Estimated:  1.979411 +- 0.004218 --- Global Estimated:  2.009182 +- 0.004372\n",
      "RS --- Exact:  0.894258 --- Local Estimated:  0.868297 +- 0.002771 --- Global Estimated:  0.909201 +- 0.002542\n"
     ]
    }
   ],
   "source": [
    "N_U = 1000                      #we define the number of unitaries ensambles performed in the randomized protocol.\n",
    "N_M = 10000                     #we define the number of measurements performed in the randomized protocol.\n",
    "N_A = [0,1,2]                   #indicates that subsystem A is composed by qubits 0,1,2 of the circuit.\n",
    "\n",
    "#we execute the estimated calculations on the local approach\n",
    "f2.Local(ghz, N_A, N_U, N_M)                 #calls the local protocol\n",
    "local_estimated_ghz = f2.entropy()           #retrives the entropy value\n",
    "local_error_ghz = f2.error()                 #retrives the standard error correction\n",
    "\n",
    "f2.Local(gs, N_A, N_U, N_M)\n",
    "local_estimated_gs = f2.entropy()\n",
    "local_error_gs = f2.error()\n",
    "\n",
    "\n",
    "f2.Local(rs, N_A, N_U, N_M)\n",
    "local_estimated_rs = f2.entropy()\n",
    "local_error_rs = f2.error()\n",
    "\n",
    "#the same on the global approach\n",
    "f2.Global(ghz, N_A, N_U, N_M)                 #calls the global protocol\n",
    "global_estimated_ghz = f2.entropy()           #retrives the entropy value\n",
    "global_error_ghz = f2.error()                 #retrives the standard error correction\n",
    "\n",
    "f2.Global(gs, N_A, N_U, N_M)\n",
    "global_estimated_gs = f2.entropy()\n",
    "global_error_gs = f2.error()\n",
    "\n",
    "\n",
    "f2.Global(rs, N_A, N_U, N_M)\n",
    "global_estimated_rs = f2.entropy()\n",
    "global_error_rs = f2.error()\n",
    "\n",
    "\n",
    "print('GHZ --- Exact: ', \"%.6f\" % exact_ghz, '--- Local Estimated: ', \"%.6f\" % local_estimated_ghz, '+-', \"%.6f\" % local_error_ghz, '--- Global Estimated: ', \"%.6f\" % global_estimated_ghz, '+-', \"%.6f\" % global_error_ghz )\n",
    "print('GS --- Exact: ', \"%.6f\" % exact_gs, '--- Local Estimated: ', \"%.6f\" % local_estimated_gs, '+-', \"%.6f\" % local_error_gs, '--- Global Estimated: ', \"%.6f\" % global_estimated_gs, '+-', \"%.6f\" % global_error_gs )\n",
    "print('RS --- Exact: ', \"%.6f\" % exact_rs, '--- Local Estimated: ', \"%.6f\" % local_estimated_rs, '+-', \"%.6f\" % local_error_rs, '--- Global Estimated: ', \"%.6f\" % global_estimated_rs, '+-', \"%.6f\" % global_error_rs )"
   ]
  },
  {
   "attachments": {},
   "cell_type": "markdown",
   "metadata": {},
   "source": [
    "As we can see, both protocols demonstrate efficient and straightforward execution, providing accurate estimates along with appropriate error corrections."
   ]
  },
  {
   "attachments": {},
   "cell_type": "markdown",
   "metadata": {},
   "source": [
    "## Two-site Fermi-Hubbard example\n",
    "\n",
    "In this study, we apply both protocols to replicate the findings reported in [N. M. Linke, S. Johri, C. Figgatt, et al., Phys. Rev. A 98, 052334](https://journals.aps.org/pra/abstract/10.1103/PhysRevA.98.052334). This original work focuses on measuring the 2nd-order Rényi entropy of the ground state of a two-site Fermi-Hubbard model using a 5-qubit trapped ions computer. The executed circuit is given by Fig.1, where we find two ways to discretize the adiabatic evolution and evolve the on-site interaction $U$ of the Fermi-Hubbard model.\n",
    "\n",
    "<center><img src=\"fig1.png\" width=\"501\"/></center>\n",
    "\n",
    "The plots we are trying to replicate are shown in Fig.2. In this case, we need to estimate the purity $R_2$.\n",
    "\n",
    "<center><img src=\"fig2.png\" width=\"1200\"/></center>"
   ]
  },
  {
   "attachments": {},
   "cell_type": "markdown",
   "metadata": {},
   "source": [
    "First, let's definte the quantum circuits to inicialize our states."
   ]
  },
  {
   "cell_type": "code",
   "execution_count": 7,
   "metadata": {},
   "outputs": [],
   "source": [
    "def FH_I(M):\n",
    "    '''\n",
    "    This function returns a circuit for the two-site Fermi-Hubbard \n",
    "    using Model I of adiabatic evolution discretitzation, for M steps.\n",
    "    Parameters:\n",
    "        M: number of maximum steps on the adiabatic evolution.\n",
    "    '''\n",
    "    delta = 0.1     #time\n",
    "    tau = 0.1       #time discretization\n",
    "    m = np.linspace(1,M,M)\n",
    "    phi = m*delta**2/tau\n",
    "\n",
    "    c = Circuit(2)\n",
    "    #state preparation\n",
    "    c.add(gates.H(0))\n",
    "    c.add(gates.H(1))\n",
    "\n",
    "    #addiabatic evolution on both systems for different steps\n",
    "    for step in phi:\n",
    "        c.add(gates.RX(0, -2*delta))\n",
    "        c.add(gates.RX(1, -2*delta))\n",
    "\n",
    "        c.add(gates.CNOT(0,1))\n",
    "\n",
    "        c.add(gates.RZ(1, step))\n",
    "\n",
    "        c.add(gates.CNOT(0,1))\n",
    "    return c\n",
    "\n",
    "def FH_II(U):\n",
    "    '''\n",
    "    This function returns a circuit for the two-site Fermi-Hubbard \n",
    "    using Model II of adiabatic evolution discretitzation, for U <= M, \n",
    "    where M is the maximum number of steps in the adiabatic evolution.\n",
    "    Parameters:\n",
    "        U: on-site interaction value.\n",
    "    '''\n",
    "    M = 5           \n",
    "    #variables\n",
    "    delta = 0.25     #time\n",
    "    tau = M*delta/U      #time discretization\n",
    "    m = np.linspace(1,M,M)\n",
    "    phi = m*delta**2/tau\n",
    "    #let's construct the circuit\n",
    "    c = Circuit(2, density_matrix = False)\n",
    "\n",
    "    #state preparation\n",
    "    c.add(gates.H(0))\n",
    "    c.add(gates.H(1))\n",
    "\n",
    "    #addiabatic evolution on both systems for different steps\n",
    "    for step in phi:\n",
    "        c.add(gates.RX(0, -2*delta))\n",
    "        c.add(gates.RX(1, -2*delta))\n",
    "\n",
    "        c.add(gates.CNOT(0,1))\n",
    "\n",
    "        c.add(gates.RZ(1, step))\n",
    "\n",
    "        c.add(gates.CNOT(0,1))\n",
    "    return c"
   ]
  },
  {
   "attachments": {},
   "cell_type": "markdown",
   "metadata": {},
   "source": [
    "Let's take a look at the form of the circuits and their quantum state representation."
   ]
  },
  {
   "cell_type": "code",
   "execution_count": 8,
   "metadata": {},
   "outputs": [
    {
     "name": "stdout",
     "output_type": "stream",
     "text": [
      "This is the FH_I model circuit \n",
      " q0: ─H─RX─o────o─RX─o────o─RX─o────o─RX─o────o─RX─o────o─\n",
      "q1: ─H─RX─X─RZ─X─RX─X─RZ─X─RX─X─RZ─X─RX─X─RZ─X─RX─X─RZ─X─ \n",
      "\n",
      "and this is its quantum state \n",
      " (0.30288+0.1018j)|00> + (0.02055+0.63046j)|01> + (0.02055+0.63046j)|10> + (0.30288+0.1018j)|11>\n",
      "\n",
      "\n",
      "-------------------------------------------------------------------------------------------\n",
      "This is the FH_II model circuit\n",
      " q0: ─H─RX─o────o─RX─o────o─RX─o────o─RX─o────o─RX─o────o─\n",
      "q1: ─H─RX─X─RZ─X─RX─X─RZ─X─RX─X─RZ─X─RX─X─RZ─X─RX─X─RZ─X─ \n",
      "\n",
      "and this is its quantum state \n",
      " (-0.25702+0.02989j)|00> + (-0.64699-0.12022j)|01> + (-0.64699-0.12022j)|10> + (-0.25702+0.02989j)|11>\n"
     ]
    }
   ],
   "source": [
    "m = 5           #adiabatic evolution steps\n",
    "u = 5           #in-site interaction \n",
    "\n",
    "c1 = FH_I(m)\n",
    "c2 = FH_II(u)\n",
    "\n",
    "result1 = c1()\n",
    "result2 = c2()\n",
    "\n",
    "print('This is the FH_I model circuit \\n', c1.draw(), '\\n')\n",
    "print('and this is its quantum state \\n', result1)\n",
    "print('\\n')\n",
    "print('-------------------------------------------------------------------------------------------')\n",
    "\n",
    "print('This is the FH_II model circuit\\n', c2.draw(), '\\n')\n",
    "print('and this is its quantum state \\n', result2)"
   ]
  },
  {
   "attachments": {},
   "cell_type": "markdown",
   "metadata": {},
   "source": [
    "Finally, let's compute the purity values using both protocols and let's plot the results."
   ]
  },
  {
   "cell_type": "code",
   "execution_count": 9,
   "metadata": {},
   "outputs": [],
   "source": [
    "f1 = swap_renyn()               #let's call the swap protocol f1.\n",
    "f2 = random_renyi2()            #let's call the randomized protocol f2."
   ]
  },
  {
   "cell_type": "code",
   "execution_count": 10,
   "metadata": {},
   "outputs": [
    {
     "name": "stdout",
     "output_type": "stream",
     "text": [
      "Swap Protocol on FH model I is completed!!!\n",
      "Swap Protocol on FH model II is completed!!!\n"
     ]
    },
    {
     "name": "stderr",
     "output_type": "stream",
     "text": [
      "C:\\Users\\juanm\\AppData\\Local\\Temp\\ipykernel_16076\\3763447015.py:41: RuntimeWarning: divide by zero encountered in double_scalars\n",
      "  tau = M*delta/U      #time discretization\n"
     ]
    },
    {
     "name": "stdout",
     "output_type": "stream",
     "text": [
      "Local Random Protocol on FH model I is completed!!!\n",
      "Local Random Protocol on FH model II is completed!!!\n",
      "Global Random Protocol on FH model I is completed!!!\n",
      "Global Random Protocol on FH model II is completed!!!\n"
     ]
    }
   ],
   "source": [
    "#we create list to save the results for the swap protocol\n",
    "RI_exact = []\n",
    "RI_estimated_swap = []\n",
    "RI_error_swap = []\n",
    "\n",
    "RII_exact = []\n",
    "RII_estimated_swap = []\n",
    "RII_error_swap = []\n",
    "\n",
    "n_order = 2     #order of the rényi entropy we estimate in the swap protocol.\n",
    "nqubits = 2     #number of qubits of the initial state. In this case, must always be 2 for this FH model.\n",
    "M_steps = 7     #number of maximum steps in the adiabatic evolution. Important in method I.\n",
    "M = 5           #fixed number steps in the adiabatic evolution. Important in method II.\n",
    "\n",
    "\n",
    "N_M = 1000      #number of measurements for the swap protocol.\n",
    "N_A = [0]       #subsystem A is composed by qubit 0 of the initial circuit.\n",
    "\n",
    "#here we give the exact value and the swap estimation for mutiple steps in method I.\n",
    "for n in range(M_steps):\n",
    "    c = FH_I(n)\n",
    "    f1.Exact(n_order, nqubits, N_A, c) \n",
    "    exact = f1.entropy()[0]\n",
    "    exact = 2**(-exact)\n",
    "\n",
    "    c = FH_I(n)\n",
    "    f1.Measurement(n_order, nqubits, N_A, c, N_M)\n",
    "    swap_estimatedx = f1.entropy()\n",
    "    swap_estimated = 2**(-swap_estimatedx)\n",
    "    swap_error = f1.error()\n",
    "    swap_error = swap_estimatedx*np.log(2)*swap_error\n",
    "\n",
    "    RI_exact.append(exact)\n",
    "    RI_estimated_swap.append(swap_estimated)\n",
    "    RI_error_swap.append(swap_error)\n",
    "\n",
    "print('Swap Protocol on FH model I is completed!!!')\n",
    "\n",
    "#here we give the exact value and the swap estimation for mutiple steps in method II.\n",
    "interaction = np.linspace(0,M,11)\n",
    "for u in interaction:\n",
    "    c = FH_II(u)\n",
    "    f1.Exact(n_order, nqubits, N_A, c) \n",
    "    exact = f1.entropy()[0]\n",
    "    exact = 2**(-exact)\n",
    "\n",
    "    c = FH_II(u)\n",
    "    f1.Measurement(n_order, nqubits, N_A, c, N_M)\n",
    "    swap_estimated = f1.entropy()\n",
    "    swap_estimated = 2**(-swap_estimated)\n",
    "    swap_error = f1.error()\n",
    "    swap_error = swap_estimated*np.log(2)*swap_error\n",
    "\n",
    "    RII_exact.append(exact)\n",
    "    RII_estimated_swap.append(swap_estimated)\n",
    "    RII_error_swap.append(swap_error)\n",
    "\n",
    "print('Swap Protocol on FH model II is completed!!!')\n",
    "\n",
    "N_U = 1000          #number of unitary ensembles applied in the randomized protocol.\n",
    "N_M = 10000         #number of measurements per unitary ensemble applied in the randomized protocol.\n",
    "\n",
    "#we create list to save the results for the random local protocol\n",
    "RI_estimated_local = []\n",
    "RI_error_local = []\n",
    "\n",
    "RII_estimated_local = []\n",
    "RII_error_local = []\n",
    "\n",
    "#here we give local estimation for mutiple steps in method I.\n",
    "for n in range(M_steps):\n",
    "    c = FH_I(n)\n",
    "    f2.Local(c, N_A, N_U, N_M)\n",
    "    estimatedx = f2.entropy()\n",
    "    estimated = 2**(-estimatedx)\n",
    "    errorx = f2.error()\n",
    "    error = np.abs(estimatedx*np.log(2)*errorx)\n",
    "\n",
    "    RI_estimated_local.append(estimated)\n",
    "    RI_error_local.append(error)\n",
    "\n",
    "print('Local Random Protocol on FH model I is completed!!!')\n",
    "\n",
    "#here we give local estimation for mutiple steps in method II.\n",
    "for u in interaction:\n",
    "    c = FH_II(u)\n",
    "    f2.Local(c, N_A, N_U, N_M)\n",
    "    estimatedx = f2.entropy()\n",
    "    estimated = 2**(-estimatedx)\n",
    "    errorx = f2.error()\n",
    "    error = np.abs(estimatedx*np.log(2)*errorx)\n",
    "\n",
    "    RII_estimated_local.append(estimated)\n",
    "    RII_error_local.append(error)\n",
    "\n",
    "print('Local Random Protocol on FH model II is completed!!!')\n",
    "\n",
    "#we create list to save the results for the random global protocol\n",
    "RI_estimated_global = []\n",
    "RI_error_global = []\n",
    "\n",
    "RII_estimated_global = []\n",
    "RII_error_global = []\n",
    "\n",
    "#here we give global estimation for mutiple steps in method I.\n",
    "for n in range(M_steps):\n",
    "    c = FH_I(n)\n",
    "    f2.Global(c, N_A, N_U, N_M)\n",
    "    estimatedx = f2.entropy()\n",
    "    estimated = 2**(-estimatedx)\n",
    "    errorx = f2.error()\n",
    "    error = np.abs(estimatedx*np.log(2)*errorx)\n",
    "\n",
    "    RI_estimated_global.append(estimated)\n",
    "    RI_error_global.append(error)\n",
    "\n",
    "print('Global Random Protocol on FH model I is completed!!!')\n",
    "\n",
    "#here we give global estimation for mutiple steps in method II.\n",
    "for u in interaction:\n",
    "    c = FH_II(u)\n",
    "    f2.Global(c, N_A, N_U, N_M)\n",
    "    estimatedx = f2.entropy()\n",
    "    estimated = 2**(-estimatedx)\n",
    "    errorx = f2.error()\n",
    "    error = np.abs(estimatedx*np.log(2)*errorx)\n",
    "\n",
    "    RII_estimated_global.append(estimated)\n",
    "    RII_error_global.append(error)\n",
    "\n",
    "print('Global Random Protocol on FH model II is completed!!!')"
   ]
  },
  {
   "cell_type": "code",
   "execution_count": 11,
   "metadata": {},
   "outputs": [
    {
     "data": {
      "image/png": "[encoded data removed]",
      "text/plain": [
       "<Figure size 1500x500 with 2 Axes>"
      ]
     },
     "metadata": {},
     "output_type": "display_data"
    }
   ],
   "source": [
    "#let's plot the results\n",
    "M_steps = 7\n",
    "iter1 = np.linspace(0,M_steps,M_steps)\n",
    "\n",
    "M = 5\n",
    "iter2 = np.linspace(0,M,11)\n",
    "\n",
    "fig, (ax1, ax2) = plt.subplots(1, 2, figsize = (15,5))\n",
    "\n",
    "ax1.plot(iter1, RI_exact, '-', label = 'Exact')\n",
    "ax1.errorbar(iter1, RI_estimated_swap, yerr = RI_error_swap, fmt = 'o', label = 'Swap')\n",
    "ax1.errorbar(iter1, RI_estimated_local, yerr = RI_error_local, fmt = '^', label = 'Local')\n",
    "ax1.errorbar(iter1, RI_estimated_global, yerr = RI_error_global, fmt = 's', label = 'Global')\n",
    "ax1.set_title('Method I')\n",
    "ax1.set(xlabel='Interaction Strength U', ylabel='Purity $R_2$')\n",
    "ax1.legend()\n",
    "ax1.set_ylim(bottom = 0.3)\n",
    "\n",
    "ax2.plot(iter2, RII_exact, '-', label = 'Exact')\n",
    "ax2.errorbar(iter2, RII_estimated_swap, yerr = RII_error_swap, fmt = 'o', label = 'Swap')\n",
    "ax2.errorbar(iter2, RII_estimated_local, yerr = RII_error_local, fmt = '^', label = 'Local')\n",
    "ax2.errorbar(iter2, RII_estimated_global, yerr = RII_error_global, fmt = 's', label = 'Global')\n",
    "ax2.set_title('Method II')\n",
    "ax2.set(xlabel='Interaction Strength U', ylabel='Purity $R_2$')\n",
    "ax2.legend()\n",
    "ax2.set_ylim(bottom = 0.3)\n",
    "plt.show()\n"
   ]
  }
 ],
 "metadata": {
  "kernelspec": {
   "display_name": "VirtualEnv",
   "language": "python",
   "name": "python3"
  },
  "language_info": {
   "codemirror_mode": {
    "name": "ipython",
    "version": 3
   },
   "file_extension": ".py",
   "mimetype": "text/x-python",
   "name": "python",
   "nbconvert_exporter": "python",
   "pygments_lexer": "ipython3",
   "version": "3.10.9"
  },
  "orig_nbformat": 4
 },
 "nbformat": 4,
 "nbformat_minor": 2
}
